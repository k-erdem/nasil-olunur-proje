{
 "cells": [
  {
   "metadata": {},
   "cell_type": "markdown",
   "source": "## Old Versions",
   "id": "9716f77c3cee1dee"
  },
  {
   "metadata": {
    "ExecuteTime": {
     "end_time": "2025-02-25T04:46:37.869586Z",
     "start_time": "2025-02-25T04:46:37.866041Z"
    }
   },
   "cell_type": "code",
   "source": [
    "import pandas as pd\n",
    "import os\n",
    "from datetime import date\n",
    "import xml.etree.ElementTree as ET\n",
    "\n",
    "database_path = \"nasil_olunur_database.xlsx\"\n",
    "saf_root = \"SAF/\""
   ],
   "id": "2b503e1223b1c091",
   "outputs": [],
   "execution_count": 2
  },
  {
   "metadata": {},
   "cell_type": "markdown",
   "source": "### Creating contents file",
   "id": "7845ff1a495a3633"
  },
  {
   "metadata": {
    "ExecuteTime": {
     "end_time": "2025-01-22T03:09:03.598575Z",
     "start_time": "2025-01-22T03:09:03.593911Z"
    }
   },
   "cell_type": "code",
   "source": [
    "# Create the contents:\n",
    "def create_contents(ep_no):\n",
    "    # path = saf_root + str(ep_no)\n",
    "    path = os.path.join(saf_root, str(ep_no))\n",
    "\n",
    "    text = \"\"\n",
    "    for item in os.listdir(path):\n",
    "        text += item +\"\\n\"\n",
    "\n",
    "    # save it into a file in correct dir.\n",
    "    with open(path+\"/contents\", \"w\") as f:\n",
    "        f.write(text)\n",
    "\n",
    "# create contents file for episodes 2&3\n",
    "for no in episode_nos:\n",
    "    create_contents(no)\n"
   ],
   "id": "22cde07683ecb7e",
   "outputs": [],
   "execution_count": 5
  },
  {
   "metadata": {},
   "cell_type": "markdown",
   "source": "### Creating dublin_core.xml file",
   "id": "29667a4828de4e17"
  },
  {
   "metadata": {},
   "cell_type": "code",
   "outputs": [],
   "execution_count": null,
   "source": [
    "# Create dublin_core\n",
    "def create_dublin_core(ep_no):\n",
    "    people = df[ep_no][people]\n",
    "\n",
    "dublin_core_metadata_structure = {\n",
    "    \"contributor_author\": guest,\n",
    "    \"date_accessioned\": str(date.today),\n",
    "    \"date_issued\": episode_date,\n",
    "    \"identifier_uri\": rss_uri,\n",
    "    \"description_abstract_en\": description_en,\n",
    "    \"description_abstract_tr\": description_tr,\n",
    "    \"language_iso\": \"tr\",\n",
    "    \"subjects\": {\n",
    "        \"en\": subjects_en,\n",
    "        \"tr\": subjects_tr,\n",
    "    },\n",
    "    \"title\": episode_title,\n",
    "    \"type\": \"Recording, oral\",\n",
    "}\n"
   ],
   "id": "13a7876fa30d646"
  },
  {
   "metadata": {
    "ExecuteTime": {
     "end_time": "2024-12-20T05:17:54.537326Z",
     "start_time": "2024-12-20T05:17:54.531323Z"
    }
   },
   "cell_type": "code",
   "source": [
    "# guest = \"Zeynep Atakan\"\n",
    "# episode_title = \"2. Bölüm - Zeynep Atakan\"\n",
    "# date = date.today()\n",
    "# episode_date = \"2019-03-28\"\n",
    "# rss_uri = \"https://feeds.simplecast.com/TRRbx_5C\"\n",
    "\n",
    "guest = \"İsmail Küçükkaya\"\n",
    "episode_title = \"3. Bölüm - İsmail Küçükkaya\"\n",
    "episode_date = \"2019-03-28\"\n",
    "rss_uri = \"https://feeds.simplecast.com/TRRbx_5C\""
   ],
   "id": "9d09809a33bdfd85",
   "outputs": [],
   "execution_count": 36
  },
  {
   "metadata": {
    "ExecuteTime": {
     "end_time": "2025-02-25T04:46:51.985311Z",
     "start_time": "2025-02-25T04:46:51.854107Z"
    }
   },
   "cell_type": "code",
   "source": [
    "dublin_core_metadata_structure = {\n",
    "    \"contributor_author\": guest,\n",
    "    \"date_accessioned\": \"2024-12-20\",\n",
    "    \"date_issued\": episode_date,\n",
    "    \"identifier_uri\": rss_uri,\n",
    "    \"description_abstract_en\": description_en,\n",
    "    \"description_abstract_tr\": description_tr,\n",
    "    \"language_iso\": \"tr\",\n",
    "    \"subjects\": {\n",
    "        \"en\": subjects_en,\n",
    "        \"tr\": subjects_tr,\n",
    "    },\n",
    "    \"title\": episode_title,\n",
    "    \"type\": \"Recording, oral\",\n",
    "}"
   ],
   "id": "cd2c137fd160763",
   "outputs": [
    {
     "ename": "NameError",
     "evalue": "name 'guest' is not defined",
     "output_type": "error",
     "traceback": [
      "\u001B[0;31m---------------------------------------------------------------------------\u001B[0m",
      "\u001B[0;31mNameError\u001B[0m                                 Traceback (most recent call last)",
      "Cell \u001B[0;32mIn[3], line 2\u001B[0m\n\u001B[1;32m      1\u001B[0m dublin_core_metadata_structure \u001B[38;5;241m=\u001B[39m {\n\u001B[0;32m----> 2\u001B[0m     \u001B[38;5;124m\"\u001B[39m\u001B[38;5;124mcontributor_author\u001B[39m\u001B[38;5;124m\"\u001B[39m: \u001B[43mguest\u001B[49m,\n\u001B[1;32m      3\u001B[0m     \u001B[38;5;124m\"\u001B[39m\u001B[38;5;124mdate_accessioned\u001B[39m\u001B[38;5;124m\"\u001B[39m: \u001B[38;5;124m\"\u001B[39m\u001B[38;5;124m2024-12-20\u001B[39m\u001B[38;5;124m\"\u001B[39m,\n\u001B[1;32m      4\u001B[0m     \u001B[38;5;124m\"\u001B[39m\u001B[38;5;124mdate_issued\u001B[39m\u001B[38;5;124m\"\u001B[39m: episode_date,\n\u001B[1;32m      5\u001B[0m     \u001B[38;5;124m\"\u001B[39m\u001B[38;5;124midentifier_uri\u001B[39m\u001B[38;5;124m\"\u001B[39m: rss_uri,\n\u001B[1;32m      6\u001B[0m     \u001B[38;5;124m\"\u001B[39m\u001B[38;5;124mdescription_abstract_en\u001B[39m\u001B[38;5;124m\"\u001B[39m: description_en,\n\u001B[1;32m      7\u001B[0m     \u001B[38;5;124m\"\u001B[39m\u001B[38;5;124mdescription_abstract_tr\u001B[39m\u001B[38;5;124m\"\u001B[39m: description_tr,\n\u001B[1;32m      8\u001B[0m     \u001B[38;5;124m\"\u001B[39m\u001B[38;5;124mlanguage_iso\u001B[39m\u001B[38;5;124m\"\u001B[39m: \u001B[38;5;124m\"\u001B[39m\u001B[38;5;124mtr\u001B[39m\u001B[38;5;124m\"\u001B[39m,\n\u001B[1;32m      9\u001B[0m     \u001B[38;5;124m\"\u001B[39m\u001B[38;5;124msubjects\u001B[39m\u001B[38;5;124m\"\u001B[39m: {\n\u001B[1;32m     10\u001B[0m         \u001B[38;5;124m\"\u001B[39m\u001B[38;5;124men\u001B[39m\u001B[38;5;124m\"\u001B[39m: subjects_en,\n\u001B[1;32m     11\u001B[0m         \u001B[38;5;124m\"\u001B[39m\u001B[38;5;124mtr\u001B[39m\u001B[38;5;124m\"\u001B[39m: subjects_tr,\n\u001B[1;32m     12\u001B[0m     },\n\u001B[1;32m     13\u001B[0m     \u001B[38;5;124m\"\u001B[39m\u001B[38;5;124mtitle\u001B[39m\u001B[38;5;124m\"\u001B[39m: episode_title,\n\u001B[1;32m     14\u001B[0m     \u001B[38;5;124m\"\u001B[39m\u001B[38;5;124mtype\u001B[39m\u001B[38;5;124m\"\u001B[39m: \u001B[38;5;124m\"\u001B[39m\u001B[38;5;124mRecording, oral\u001B[39m\u001B[38;5;124m\"\u001B[39m,\n\u001B[1;32m     15\u001B[0m }\n",
      "\u001B[0;31mNameError\u001B[0m: name 'guest' is not defined"
     ]
    }
   ],
   "execution_count": 3
  },
  {
   "metadata": {
    "ExecuteTime": {
     "end_time": "2024-12-20T05:18:15.077203Z",
     "start_time": "2024-12-20T05:18:15.067509Z"
    }
   },
   "cell_type": "code",
   "source": [
    "# Create the root element\n",
    "root = ET.Element(\"dublin_core\", attrib={\"schema\": \"dc\"})\n",
    "\n",
    "# Add metadata as sub-elements\n",
    "ET.SubElement(root, \"dcvalue\", attrib={\"element\": \"contributor\", \"qualifier\": \"author\"}).text = dublin_core_metadata_structure[\"contributor_author\"]\n",
    "ET.SubElement(root, \"dcvalue\", attrib={\"element\": \"date\", \"qualifier\": \"accessioned\"}).text = dublin_core_metadata_structure[\"date_accessioned\"]\n",
    "ET.SubElement(root, \"dcvalue\", attrib={\"element\": \"date\", \"qualifier\": \"issued\"}).text = dublin_core_metadata_structure[\"date_issued\"]\n",
    "ET.SubElement(root, \"dcvalue\", attrib={\"element\": \"identifier\", \"qualifier\": \"uri\"}).text = dublin_core_metadata_structure[\"identifier_uri\"]\n",
    "\n",
    "# Add descriptions\n",
    "ET.SubElement(\n",
    "    root,\n",
    "    \"dcvalue\",\n",
    "    attrib={\"element\": \"description\", \"qualifier\": \"abstract\", \"language\": \"en\"}\n",
    ").text = dublin_core_metadata_structure[\"description_abstract_en\"]\n",
    "ET.SubElement(\n",
    "    root,\n",
    "    \"dcvalue\",\n",
    "    attrib={\"element\": \"description\", \"qualifier\": \"abstract\", \"language\": \"tr\"}\n",
    ").text = dublin_core_metadata_structure[\"description_abstract_tr\"]\n",
    "\n",
    "# Add subjects\n",
    "for subject in dublin_core_metadata_structure[\"subjects\"][\"en\"]:\n",
    "    ET.SubElement(root, \"dcvalue\", attrib={\"element\": \"subject\", \"qualifier\": \"none\", \"language\": \"en\"}).text = subject\n",
    "\n",
    "for subject in dublin_core_metadata_structure[\"subjects\"][\"tr\"]:\n",
    "    ET.SubElement(root, \"dcvalue\", attrib={\"element\": \"subject\", \"qualifier\": \"none\", \"language\": \"tr\"}).text = subject\n",
    "\n",
    "# Add title and type\n",
    "ET.SubElement(root, \"dcvalue\", attrib={\"element\": \"title\", \"qualifier\": \"none\"}).text = dublin_core_metadata_structure[\"title\"]\n",
    "ET.SubElement(root, \"dcvalue\", attrib={\"element\": \"type\", \"qualifier\": \"none\"}).text = dublin_core_metadata_structure[\"type\"]\n",
    "\n",
    "# Write to an XML file\n",
    "tree = ET.ElementTree(root)\n",
    "tree.write(\"dublin_core.xml\", encoding=\"utf-8\", xml_declaration=True)\n",
    "\n",
    "# Write to an XML file in the SAF/2 directory\n",
    "output_dir = \"../SAF/3\"\n",
    "output_file = os.path.join(output_dir, \"dublin_core.xml\")\n",
    "tree = ET.ElementTree(root)\n",
    "tree.write(output_file, encoding=\"utf-8\", xml_declaration=True)\n",
    "\n",
    "print(\"XML file created: dublin_core.xml\")"
   ],
   "id": "6424c7e6906b89",
   "outputs": [
    {
     "name": "stdout",
     "output_type": "stream",
     "text": [
      "XML file created: dublin_core.xml\n"
     ]
    }
   ],
   "execution_count": 39
  },
  {
   "metadata": {},
   "cell_type": "markdown",
   "source": [
    "#### Yapilacaklar\n",
    "* episode date\n",
    "* rss uri\n",
    "* tr description\n",
    "* en description kaydedilecek\n",
    "* subject'lerin elle yazilmasi icin yontem gelistirilecek\n",
    "\n",
    "** database formati guncellenecek, dogru formatlar yuklenecek\n",
    "** LLM agentlari ile sistem kurulup anahtar kelime buldurtulacak\n",
    "** SAF dosyalari yaratma islemi otomatik hale getirilecek"
   ],
   "id": "e5dffc50a0c69308"
  },
  {
   "metadata": {},
   "cell_type": "markdown",
   "source": "### Creating metadata_local.xml",
   "id": "810c254eafdd7588"
  },
  {
   "metadata": {
    "ExecuteTime": {
     "end_time": "2025-02-25T04:47:05.574442Z",
     "start_time": "2025-02-25T04:47:05.548773Z"
    }
   },
   "cell_type": "code",
   "source": [
    "# Dillerin otomatik belirlenmesini ayarlamam lazim...\n",
    "def create_xml_file():\n",
    "    # Create the root element\n",
    "    root = ET.Element(\"dublin_core\", schema=\"local\")\n",
    "\n",
    "    # Add people to the XML\n",
    "    for person in people:\n",
    "        dcvalue = ET.SubElement(root, \"dcvalue\")\n",
    "        dcvalue.set(\"element\", \"person\")\n",
    "        dcvalue.set(\"qualifier\", \"name\")\n",
    "        dcvalue.set(\"language\", \"tr\")\n",
    "        dcvalue.text = person\n",
    "\n",
    "    # Add places to the XML\n",
    "    for place in places:\n",
    "        dcvalue = ET.SubElement(root, \"dcvalue\")\n",
    "        dcvalue.set(\"element\", \"place\")\n",
    "        dcvalue.set(\"qualifier\", \"name\")\n",
    "        dcvalue.set(\"language\", \"tr\")\n",
    "        dcvalue.text = place\n",
    "\n",
    "    # Create an ElementTree object\n",
    "    tree = ET.ElementTree(root)\n",
    "\n",
    "    output_dir = \"../SAF/2\"\n",
    "    output_file = os.path.join(output_dir, \"metadata_local.xml\")\n",
    "    # Write the tree to an XML file\n",
    "    with open(output_file, \"wb\") as file:\n",
    "        file.write(b'<?xml version=\"1.0\" encoding=\"utf-8\" standalone=\"no\"?>\\n')\n",
    "        tree.write(file, encoding=\"utf-8\", xml_declaration=False)\n",
    "\n",
    "# Generate the XML file\n",
    "create_xml_file()\n",
    "print(\"XML file created as 'output.xml'.\")"
   ],
   "id": "fdc7291008471a19",
   "outputs": [
    {
     "ename": "NameError",
     "evalue": "name 'people' is not defined",
     "output_type": "error",
     "traceback": [
      "\u001B[0;31m---------------------------------------------------------------------------\u001B[0m",
      "\u001B[0;31mNameError\u001B[0m                                 Traceback (most recent call last)",
      "Cell \u001B[0;32mIn[4], line 33\u001B[0m\n\u001B[1;32m     30\u001B[0m         tree\u001B[38;5;241m.\u001B[39mwrite(file, encoding\u001B[38;5;241m=\u001B[39m\u001B[38;5;124m\"\u001B[39m\u001B[38;5;124mutf-8\u001B[39m\u001B[38;5;124m\"\u001B[39m, xml_declaration\u001B[38;5;241m=\u001B[39m\u001B[38;5;28;01mFalse\u001B[39;00m)\n\u001B[1;32m     32\u001B[0m \u001B[38;5;66;03m# Generate the XML file\u001B[39;00m\n\u001B[0;32m---> 33\u001B[0m \u001B[43mcreate_xml_file\u001B[49m\u001B[43m(\u001B[49m\u001B[43m)\u001B[49m\n\u001B[1;32m     34\u001B[0m \u001B[38;5;28mprint\u001B[39m(\u001B[38;5;124m\"\u001B[39m\u001B[38;5;124mXML file created as \u001B[39m\u001B[38;5;124m'\u001B[39m\u001B[38;5;124moutput.xml\u001B[39m\u001B[38;5;124m'\u001B[39m\u001B[38;5;124m.\u001B[39m\u001B[38;5;124m\"\u001B[39m)\n",
      "Cell \u001B[0;32mIn[4], line 7\u001B[0m, in \u001B[0;36mcreate_xml_file\u001B[0;34m()\u001B[0m\n\u001B[1;32m      4\u001B[0m root \u001B[38;5;241m=\u001B[39m ET\u001B[38;5;241m.\u001B[39mElement(\u001B[38;5;124m\"\u001B[39m\u001B[38;5;124mdublin_core\u001B[39m\u001B[38;5;124m\"\u001B[39m, schema\u001B[38;5;241m=\u001B[39m\u001B[38;5;124m\"\u001B[39m\u001B[38;5;124mlocal\u001B[39m\u001B[38;5;124m\"\u001B[39m)\n\u001B[1;32m      6\u001B[0m \u001B[38;5;66;03m# Add people to the XML\u001B[39;00m\n\u001B[0;32m----> 7\u001B[0m \u001B[38;5;28;01mfor\u001B[39;00m person \u001B[38;5;129;01min\u001B[39;00m \u001B[43mpeople\u001B[49m:\n\u001B[1;32m      8\u001B[0m     dcvalue \u001B[38;5;241m=\u001B[39m ET\u001B[38;5;241m.\u001B[39mSubElement(root, \u001B[38;5;124m\"\u001B[39m\u001B[38;5;124mdcvalue\u001B[39m\u001B[38;5;124m\"\u001B[39m)\n\u001B[1;32m      9\u001B[0m     dcvalue\u001B[38;5;241m.\u001B[39mset(\u001B[38;5;124m\"\u001B[39m\u001B[38;5;124melement\u001B[39m\u001B[38;5;124m\"\u001B[39m, \u001B[38;5;124m\"\u001B[39m\u001B[38;5;124mperson\u001B[39m\u001B[38;5;124m\"\u001B[39m)\n",
      "\u001B[0;31mNameError\u001B[0m: name 'people' is not defined"
     ]
    }
   ],
   "execution_count": 4
  },
  {
   "metadata": {},
   "cell_type": "code",
   "outputs": [],
   "execution_count": null,
   "source": "",
   "id": "4aace9b7e437298b"
  },
  {
   "metadata": {},
   "cell_type": "markdown",
   "source": [
    "# SAF Creator Polished\n",
    "\n",
    "### Workflow:\n",
    "\n",
    "* Create Episode Folder\n",
    "* Add Episode Document\n",
    "* Create & Populate Contents File\n",
    "* Create & Populate dublin_core.xml File\n",
    "* Create & Populate metadata_local.xml File\n",
    "* Download & add the episode audio file\n",
    "\n",
    "Database Format:\n",
    "\n",
    "Columns:\n",
    "- Episode Number (key)\n",
    "- Episode Title\n",
    "- Episode Audio URL\n",
    "- Guest Name\n",
    "- Word Document Name\n",
    "- Keyword - People\n",
    "- Keyword - Places (TR)\n",
    "- Keyword - Subjects (TR)\n",
    "- Keyword - Subjects (EN)"
   ],
   "id": "f893ff690aeb8abf"
  },
  {
   "metadata": {},
   "cell_type": "markdown",
   "source": "## SAF Functions",
   "id": "feaa80e98c6430be"
  },
  {
   "metadata": {
    "ExecuteTime": {
     "end_time": "2025-02-25T05:11:42.694173Z",
     "start_time": "2025-02-25T05:11:42.689864Z"
    }
   },
   "cell_type": "code",
   "source": [
    "import pandas as pd\n",
    "import os\n",
    "from datetime import date\n",
    "import xml.etree.ElementTree as ET\n",
    "import shutil\n",
    "import subprocess\n",
    "\n",
    "\n",
    "saf_root = \"SAF/\"\n",
    "database_path = \"nasil_olunur_database.xlsx\"\n",
    "\n",
    "episode_numbers = [str(i) for i in range(59,61)] # remove this later on\n",
    "\n",
    "# episode_numbers = [\n",
    "#     4, 5, 6, 7, 8, 9, 11, 12, 14, 15, 17, 19, 21, 22, 23, 24, 25, 26, 27,\n",
    "#     28, 29, 30, 31, 32, 33, 34, 35, 36, 37, 38, 39, 40, 41, 42, 43, 44, 45,\n",
    "#     46, 47, 48, 49, 50, 51, 52, 53, 54, 55, 56, 57, 58\n",
    "# ]"
   ],
   "id": "d4638ef39cd430c9",
   "outputs": [],
   "execution_count": 36
  },
  {
   "metadata": {
    "ExecuteTime": {
     "end_time": "2025-02-25T05:11:44.647391Z",
     "start_time": "2025-02-25T05:11:44.583598Z"
    }
   },
   "cell_type": "code",
   "source": [
    "\"\"\"\n",
    "Executing creating SAF folders per episode\n",
    "\"\"\"\n",
    "\n",
    "for ep in episode_numbers:\n",
    "    create_SAF_folder(ep)\n"
   ],
   "id": "f8339d50f3a78db5",
   "outputs": [
    {
     "ename": "IndexError",
     "evalue": "single positional indexer is out-of-bounds",
     "output_type": "error",
     "traceback": [
      "\u001B[0;31m---------------------------------------------------------------------------\u001B[0m",
      "\u001B[0;31mIndexError\u001B[0m                                Traceback (most recent call last)",
      "Cell \u001B[0;32mIn[37], line 6\u001B[0m\n\u001B[1;32m      1\u001B[0m \u001B[38;5;124;03m\"\"\"\u001B[39;00m\n\u001B[1;32m      2\u001B[0m \u001B[38;5;124;03mExecuting creating SAF folders per episode\u001B[39;00m\n\u001B[1;32m      3\u001B[0m \u001B[38;5;124;03m\"\"\"\u001B[39;00m\n\u001B[1;32m      5\u001B[0m \u001B[38;5;28;01mfor\u001B[39;00m ep \u001B[38;5;129;01min\u001B[39;00m episode_numbers:\n\u001B[0;32m----> 6\u001B[0m     \u001B[43mcreate_SAF_folder\u001B[49m\u001B[43m(\u001B[49m\u001B[43mep\u001B[49m\u001B[43m)\u001B[49m\n",
      "Cell \u001B[0;32mIn[35], line 9\u001B[0m, in \u001B[0;36mcreate_SAF_folder\u001B[0;34m(episode_number)\u001B[0m\n\u001B[1;32m      7\u001B[0m df \u001B[38;5;241m=\u001B[39m pd\u001B[38;5;241m.\u001B[39mread_excel(database_path)\n\u001B[1;32m      8\u001B[0m \u001B[38;5;66;03m# row = df.loc[df[\"Episode Number\"] == episode_number]\u001B[39;00m\n\u001B[0;32m----> 9\u001B[0m row \u001B[38;5;241m=\u001B[39m \u001B[43mdf\u001B[49m\u001B[38;5;241;43m.\u001B[39;49m\u001B[43mloc\u001B[49m\u001B[43m[\u001B[49m\u001B[43mdf\u001B[49m\u001B[43m[\u001B[49m\u001B[38;5;124;43m\"\u001B[39;49m\u001B[38;5;124;43mEpisode Number\u001B[39;49m\u001B[38;5;124;43m\"\u001B[39;49m\u001B[43m]\u001B[49m\u001B[43m \u001B[49m\u001B[38;5;241;43m==\u001B[39;49m\u001B[43m \u001B[49m\u001B[43mepisode_number\u001B[49m\u001B[43m]\u001B[49m\u001B[38;5;241;43m.\u001B[39;49m\u001B[43miloc\u001B[49m\u001B[43m[\u001B[49m\u001B[38;5;241;43m0\u001B[39;49m\u001B[43m]\u001B[49m\n\u001B[1;32m     10\u001B[0m title \u001B[38;5;241m=\u001B[39m \u001B[38;5;28mstr\u001B[39m(episode_number) \u001B[38;5;241m+\u001B[39m \u001B[38;5;124m\"\u001B[39m\u001B[38;5;124m-\u001B[39m\u001B[38;5;124m\"\u001B[39m \u001B[38;5;241m+\u001B[39m row[\u001B[38;5;124m\"\u001B[39m\u001B[38;5;124mGuest Name\u001B[39m\u001B[38;5;124m\"\u001B[39m]\n\u001B[1;32m     11\u001B[0m url \u001B[38;5;241m=\u001B[39m row[\u001B[38;5;124m\"\u001B[39m\u001B[38;5;124mEpisode Audio Url\u001B[39m\u001B[38;5;124m\"\u001B[39m]\n",
      "File \u001B[0;32m/opt/anaconda3/envs/pdtxt/lib/python3.9/site-packages/pandas/core/indexing.py:1191\u001B[0m, in \u001B[0;36m_LocationIndexer.__getitem__\u001B[0;34m(self, key)\u001B[0m\n\u001B[1;32m   1189\u001B[0m maybe_callable \u001B[38;5;241m=\u001B[39m com\u001B[38;5;241m.\u001B[39mapply_if_callable(key, \u001B[38;5;28mself\u001B[39m\u001B[38;5;241m.\u001B[39mobj)\n\u001B[1;32m   1190\u001B[0m maybe_callable \u001B[38;5;241m=\u001B[39m \u001B[38;5;28mself\u001B[39m\u001B[38;5;241m.\u001B[39m_check_deprecated_callable_usage(key, maybe_callable)\n\u001B[0;32m-> 1191\u001B[0m \u001B[38;5;28;01mreturn\u001B[39;00m \u001B[38;5;28;43mself\u001B[39;49m\u001B[38;5;241;43m.\u001B[39;49m\u001B[43m_getitem_axis\u001B[49m\u001B[43m(\u001B[49m\u001B[43mmaybe_callable\u001B[49m\u001B[43m,\u001B[49m\u001B[43m \u001B[49m\u001B[43maxis\u001B[49m\u001B[38;5;241;43m=\u001B[39;49m\u001B[43maxis\u001B[49m\u001B[43m)\u001B[49m\n",
      "File \u001B[0;32m/opt/anaconda3/envs/pdtxt/lib/python3.9/site-packages/pandas/core/indexing.py:1752\u001B[0m, in \u001B[0;36m_iLocIndexer._getitem_axis\u001B[0;34m(self, key, axis)\u001B[0m\n\u001B[1;32m   1749\u001B[0m     \u001B[38;5;28;01mraise\u001B[39;00m \u001B[38;5;167;01mTypeError\u001B[39;00m(\u001B[38;5;124m\"\u001B[39m\u001B[38;5;124mCannot index by location index with a non-integer key\u001B[39m\u001B[38;5;124m\"\u001B[39m)\n\u001B[1;32m   1751\u001B[0m \u001B[38;5;66;03m# validate the location\u001B[39;00m\n\u001B[0;32m-> 1752\u001B[0m \u001B[38;5;28;43mself\u001B[39;49m\u001B[38;5;241;43m.\u001B[39;49m\u001B[43m_validate_integer\u001B[49m\u001B[43m(\u001B[49m\u001B[43mkey\u001B[49m\u001B[43m,\u001B[49m\u001B[43m \u001B[49m\u001B[43maxis\u001B[49m\u001B[43m)\u001B[49m\n\u001B[1;32m   1754\u001B[0m \u001B[38;5;28;01mreturn\u001B[39;00m \u001B[38;5;28mself\u001B[39m\u001B[38;5;241m.\u001B[39mobj\u001B[38;5;241m.\u001B[39m_ixs(key, axis\u001B[38;5;241m=\u001B[39maxis)\n",
      "File \u001B[0;32m/opt/anaconda3/envs/pdtxt/lib/python3.9/site-packages/pandas/core/indexing.py:1685\u001B[0m, in \u001B[0;36m_iLocIndexer._validate_integer\u001B[0;34m(self, key, axis)\u001B[0m\n\u001B[1;32m   1683\u001B[0m len_axis \u001B[38;5;241m=\u001B[39m \u001B[38;5;28mlen\u001B[39m(\u001B[38;5;28mself\u001B[39m\u001B[38;5;241m.\u001B[39mobj\u001B[38;5;241m.\u001B[39m_get_axis(axis))\n\u001B[1;32m   1684\u001B[0m \u001B[38;5;28;01mif\u001B[39;00m key \u001B[38;5;241m>\u001B[39m\u001B[38;5;241m=\u001B[39m len_axis \u001B[38;5;129;01mor\u001B[39;00m key \u001B[38;5;241m<\u001B[39m \u001B[38;5;241m-\u001B[39mlen_axis:\n\u001B[0;32m-> 1685\u001B[0m     \u001B[38;5;28;01mraise\u001B[39;00m \u001B[38;5;167;01mIndexError\u001B[39;00m(\u001B[38;5;124m\"\u001B[39m\u001B[38;5;124msingle positional indexer is out-of-bounds\u001B[39m\u001B[38;5;124m\"\u001B[39m)\n",
      "\u001B[0;31mIndexError\u001B[0m: single positional indexer is out-of-bounds"
     ]
    }
   ],
   "execution_count": 37
  },
  {
   "metadata": {
    "ExecuteTime": {
     "end_time": "2025-02-25T05:11:39.177227Z",
     "start_time": "2025-02-25T05:11:39.172348Z"
    }
   },
   "cell_type": "code",
   "source": [
    "\"\"\"\n",
    "Function to create the SAF file for the episode\n",
    "\n",
    "Calls functions to create contents, dublin_core, metadata files and download episode audio.\n",
    "\"\"\"\n",
    "def create_SAF_folder(episode_number):\n",
    "    df = pd.read_excel(database_path)\n",
    "    # row = df.loc[df[\"Episode Number\"] == episode_number]\n",
    "    row = df.loc[df[\"Episode Number\"] == episode_number].iloc[0]\n",
    "    title = str(episode_number) + \"-\" + row[\"Guest Name\"]\n",
    "    url = row[\"Episode Audio Url\"]\n",
    "\n",
    "    episode_folder_path = saf_root + str(episode_number)\n",
    "\n",
    "    # Create the folder\n",
    "    os.makedirs(episode_folder_path, exist_ok=True)\n",
    "\n",
    "    # Add the docx file\n",
    "    start_path = row[\"Word Document Name\"]\n",
    "    add_docx(start_path, episode_folder_path)\n",
    "\n",
    "    # Add the audio file\n",
    "    # add_audio(title,url,episode_folder_path)\n",
    "\n",
    "    # Create the contents file\n",
    "    create_contents(episode_folder_path)\n",
    "\n",
    "    # Create the dublin_core\n",
    "    create_dublin_core(episode_number, episode_folder_path)\n",
    "\n",
    "    # Create the metadata\n",
    "    create_metadata(episode_number,episode_folder_path)"
   ],
   "id": "77c193b0f069b169",
   "outputs": [],
   "execution_count": 35
  },
  {
   "metadata": {
    "ExecuteTime": {
     "end_time": "2025-02-25T05:10:35.937166Z",
     "start_time": "2025-02-25T05:10:35.934010Z"
    }
   },
   "cell_type": "code",
   "source": [
    "\"\"\"\n",
    "Function to create contents file for the episode\n",
    "\"\"\"\n",
    "def create_contents(path):\n",
    "    text = \"\"\n",
    "    for item in os.listdir(path):\n",
    "        text += item + \"\\t bundle:ORIGINAL\" +\"\\n\"\n",
    "\n",
    "    # save it into a file in correct dir.\n",
    "    with open(path+\"/contents\", \"w\") as f:\n",
    "        f.write(text)"
   ],
   "id": "2a1466817432007c",
   "outputs": [],
   "execution_count": 27
  },
  {
   "metadata": {
    "ExecuteTime": {
     "end_time": "2025-02-25T05:10:36.562566Z",
     "start_time": "2025-02-25T05:10:36.559599Z"
    }
   },
   "cell_type": "code",
   "source": [
    "\"\"\"\n",
    "    Function to copy Word Document to SAF Folder\n",
    "\"\"\"\n",
    "def add_docx(start_path, end_path):\n",
    "    shutil.copy2(start_path, end_path)"
   ],
   "id": "23ac2f6387d96a6c",
   "outputs": [],
   "execution_count": 28
  },
  {
   "metadata": {
    "ExecuteTime": {
     "end_time": "2025-02-25T05:10:37.330564Z",
     "start_time": "2025-02-25T05:10:37.326015Z"
    }
   },
   "cell_type": "code",
   "source": [
    "\"\"\"\n",
    "    Function to download audio file\n",
    "\"\"\"\n",
    "def add_audio(title, url,episode_folder_path):\n",
    "\n",
    "    filename = os.path.join(episode_folder_path, f\"{title}.mp3\")\n",
    "\n",
    "    ffmpeg_command = [\n",
    "        \"ffmpeg\", \"-i\", url,                # Input URL\n",
    "        \"-b:a\", \"64k\",                      # Set audio bitrate\n",
    "        \"-f\", \"mp3\",                        # Output format\n",
    "        \"-y\",                               # Overwrite existing file\n",
    "        \"-loglevel\", \"error\",               # Suppress all but error output\n",
    "        filename                            # Output file path\n",
    "    ]\n",
    "    try:\n",
    "        subprocess.run(ffmpeg_command, check=True)\n",
    "        print(f\"Downloaded and compressed: {title}\")\n",
    "    except subprocess.CalledProcessError:\n",
    "        print(f\"Failed to download and compress: {title}\")"
   ],
   "id": "2d6d0367ee921965",
   "outputs": [],
   "execution_count": 29
  },
  {
   "metadata": {
    "ExecuteTime": {
     "end_time": "2025-02-25T05:10:38.009090Z",
     "start_time": "2025-02-25T05:10:37.998792Z"
    }
   },
   "cell_type": "code",
   "source": [
    "\"\"\"\n",
    "    Function to create dublin_core file\n",
    "\"\"\"\n",
    "rss_uri = \"https://feeds.simplecast.com/TRRbx_5C\"\n",
    "\n",
    "def create_dublin_core(episode_number, episode_folder_path):\n",
    "    df = pd.read_excel(database_path)\n",
    "    episode_row = df.loc[df[\"Episode Number\"] == episode_number, [\"Guest Name\", \"Episode Date\", \"Description (TR)\", \"Keyword - Subjects (TR)\", \"Keyword - Subjects (EN)\", \"Episode Title\"]]\n",
    "\n",
    "    if episode_row.empty:\n",
    "        raise ValueError(f\"No episode found with Episode Number: {episode_number}\")\n",
    "\n",
    "    # Extract scalar values\n",
    "    guest = episode_row[\"Guest Name\"].iloc[0]\n",
    "    episode_date = episode_row[\"Episode Date\"].iloc[0]\n",
    "    description_tr = episode_row[\"Description (TR)\"].iloc[0]\n",
    "    episode_title = episode_row[\"Episode Title\"].iloc[0]\n",
    "\n",
    "    # Extract list values\n",
    "    subjects_en = episode_row[\"Keyword - Subjects (EN)\"].iloc[0].split(\",\") if pd.notnull(episode_row[\"Keyword - Subjects (EN)\"].iloc[0]) else []\n",
    "    subjects_tr = episode_row[\"Keyword - Subjects (TR)\"].iloc[0].split(\",\") if pd.notnull(episode_row[\"Keyword - Subjects (TR)\"].iloc[0]) else []\n",
    "\n",
    "    dublin_core_metadata_structure = {\n",
    "        \"contributor_author\": guest,\n",
    "        \"date_accessioned\": str(date.today()),\n",
    "        \"date_issued\": str(episode_date),\n",
    "        \"identifier_uri\": rss_uri,\n",
    "        \"description_abstract_en\": \"None\",\n",
    "        \"description_abstract_tr\": description_tr,\n",
    "        \"language_iso\": \"tr\",\n",
    "        \"subjects\": {\n",
    "            \"en\": subjects_en,\n",
    "            \"tr\": subjects_tr,\n",
    "        },\n",
    "        \"title\": episode_title,\n",
    "        \"type\": \"Recording, oral\",\n",
    "    }\n",
    "\n",
    "    # Create the root element\n",
    "    root = ET.Element(\"dublin_core\", attrib={\"schema\": \"dc\"})\n",
    "\n",
    "    # Add metadata as sub-elements\n",
    "    ET.SubElement(root, \"dcvalue\", attrib={\"element\": \"contributor\", \"qualifier\": \"author\"}).text = dublin_core_metadata_structure[\"contributor_author\"]\n",
    "    ET.SubElement(root, \"dcvalue\", attrib={\"element\": \"date\", \"qualifier\": \"accessioned\"}).text = dublin_core_metadata_structure[\"date_accessioned\"]\n",
    "    ET.SubElement(root, \"dcvalue\", attrib={\"element\": \"date\", \"qualifier\": \"issued\"}).text = dublin_core_metadata_structure[\"date_issued\"]\n",
    "    ET.SubElement(root, \"dcvalue\", attrib={\"element\": \"identifier\", \"qualifier\": \"uri\"}).text = dublin_core_metadata_structure[\"identifier_uri\"]\n",
    "\n",
    "    # Add descriptions\n",
    "    ET.SubElement(\n",
    "        root,\n",
    "        \"dcvalue\",\n",
    "        attrib={\"element\": \"description\", \"qualifier\": \"abstract\", \"language\": \"en\"}\n",
    "    ).text = dublin_core_metadata_structure[\"description_abstract_en\"]\n",
    "    ET.SubElement(\n",
    "        root,\n",
    "        \"dcvalue\",\n",
    "        attrib={\"element\": \"description\", \"qualifier\": \"abstract\", \"language\": \"tr\"}\n",
    "    ).text = dublin_core_metadata_structure[\"description_abstract_tr\"]\n",
    "\n",
    "    # Add subjects\n",
    "    for subject in dublin_core_metadata_structure[\"subjects\"][\"en\"]:\n",
    "        ET.SubElement(root, \"dcvalue\", attrib={\"element\": \"subject\", \"qualifier\": \"none\", \"language\": \"en\"}).text = subject\n",
    "\n",
    "    for subject in dublin_core_metadata_structure[\"subjects\"][\"tr\"]:\n",
    "        ET.SubElement(root, \"dcvalue\", attrib={\"element\": \"subject\", \"qualifier\": \"none\", \"language\": \"tr\"}).text = subject\n",
    "\n",
    "    # Add title and type\n",
    "    ET.SubElement(root, \"dcvalue\", attrib={\"element\": \"title\", \"qualifier\": \"none\"}).text = dublin_core_metadata_structure[\"title\"]\n",
    "    ET.SubElement(root, \"dcvalue\", attrib={\"element\": \"type\", \"qualifier\": \"none\"}).text = dublin_core_metadata_structure[\"type\"]\n",
    "\n",
    "    # Write to an XML file\n",
    "    output_file = os.path.join(episode_folder_path, \"dublin_core.xml\")\n",
    "    tree = ET.ElementTree(root)\n",
    "    tree.write(output_file, encoding=\"utf-8\", xml_declaration=True)\n",
    "\n",
    "    print(f\"XML file created: {output_file}\")"
   ],
   "id": "c18a59ba6bcd641c",
   "outputs": [],
   "execution_count": 30
  },
  {
   "metadata": {
    "ExecuteTime": {
     "end_time": "2025-02-25T05:10:38.672743Z",
     "start_time": "2025-02-25T05:10:38.666191Z"
    }
   },
   "cell_type": "code",
   "source": [
    "\"\"\"\n",
    "    Function to create metadata_local file\n",
    "\"\"\"\n",
    "def create_metadata(episode_number,episode_folder_path):\n",
    "\n",
    "    episode_row = df.loc[df[\"Episode Number\"] == episode_number, [\"Keyword - People\",\"Keyword - Places (TR)\"]]\n",
    "\n",
    "    if episode_row.empty:\n",
    "        raise ValueError(f\"No episode found with Episode Number: {episode_number}\")\n",
    "\n",
    "    # Extract list values\n",
    "    people = episode_row[\"Keyword - People\"].iloc[0].split(\",\") if pd.notnull(episode_row[\"Keyword - People\"].iloc[0]) else []\n",
    "    places = episode_row[\"Keyword - Places (TR)\"].iloc[0].split(\",\") if pd.notnull(episode_row[\"Keyword - Places (TR)\"].iloc[0]) else []\n",
    "\n",
    "\n",
    "    # Create the root element\n",
    "    root = ET.Element(\"dublin_core\", schema=\"local\")\n",
    "\n",
    "    # Add people to the XML\n",
    "    for person in people:\n",
    "        dcvalue = ET.SubElement(root, \"dcvalue\")\n",
    "        dcvalue.set(\"element\", \"person\")\n",
    "        dcvalue.set(\"qualifier\", \"name\")\n",
    "        dcvalue.set(\"language\", \"tr\")\n",
    "        dcvalue.text = person\n",
    "\n",
    "    # Add places to the XML\n",
    "    for place in places:\n",
    "        dcvalue = ET.SubElement(root, \"dcvalue\")\n",
    "        dcvalue.set(\"element\", \"place\")\n",
    "        dcvalue.set(\"qualifier\", \"name\")\n",
    "        dcvalue.set(\"language\", \"tr\")\n",
    "        dcvalue.text = place\n",
    "\n",
    "    # Create an ElementTree object\n",
    "    tree = ET.ElementTree(root)\n",
    "\n",
    "    output_dir = episode_folder_path\n",
    "    output_file = os.path.join(output_dir, \"metadata_local.xml\")\n",
    "    # Write the tree to an XML file\n",
    "    with open(output_file, \"wb\") as file:\n",
    "        file.write(b'<?xml version=\"1.0\" encoding=\"utf-8\" standalone=\"no\"?>\\n')\n",
    "        tree.write(file, encoding=\"utf-8\", xml_declaration=False)"
   ],
   "id": "53f74e5e365c6053",
   "outputs": [],
   "execution_count": 31
  },
  {
   "metadata": {},
   "cell_type": "code",
   "outputs": [],
   "execution_count": null,
   "source": "",
   "id": "dbe6315a56071e30"
  }
 ],
 "metadata": {
  "kernelspec": {
   "display_name": "Python (pdtxt)",
   "language": "python",
   "name": "pdtxt"
  },
  "language_info": {
   "codemirror_mode": {
    "name": "ipython",
    "version": 2
   },
   "file_extension": ".py",
   "mimetype": "text/x-python",
   "name": "python",
   "nbconvert_exporter": "python",
   "pygments_lexer": "ipython2",
   "version": "2.7.6"
  }
 },
 "nbformat": 4,
 "nbformat_minor": 5
}
