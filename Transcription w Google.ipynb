{
 "cells": [
  {
   "metadata": {},
   "cell_type": "markdown",
   "source": "",
   "id": "651d9fad1c13a22a"
  },
  {
   "metadata": {},
   "cell_type": "markdown",
   "source": [
    "# Using Google Drive to Store Our Files\n",
    "\n",
    "- Not using local storage anymore\n",
    "- All files processed and uploaded to the cloud.\n",
    "\n"
   ],
   "id": "4a240d6753739d26"
  },
  {
   "metadata": {},
   "cell_type": "markdown",
   "source": [
    "## Steps:\n",
    "\n",
    "1) Authenticate with Google Drive\n",
    "2) Try to upload an existing file to the cloud\n",
    "3) Try to upload a file from the RSS feed to the cloud (idk if async work makes this possible)"
   ],
   "id": "2f75cd38e383b52a"
  },
  {
   "metadata": {
    "ExecuteTime": {
     "end_time": "2025-07-13T22:02:51.868280Z",
     "start_time": "2025-07-13T22:02:51.672846Z"
    }
   },
   "cell_type": "code",
   "source": [
    "from dotenv import load_dotenv\n",
    "# Google Authentication\n",
    "from pydrive.auth import GoogleAuth\n",
    "from pydrive.drive import GoogleDrive\n",
    "\n",
    "gauth = GoogleAuth()\n",
    "gauth.LocalWebserverAuth()\n",
    "drive = GoogleDrive(gauth)\n",
    "\n",
    "# Upload a file\n",
    "# fpath = 'Finished Episodes_Word/145. Bölüm - Burçin Acer.docx'\n",
    "# file = drive.CreateFile({'title': '145. Bölüm - Burçin Acer.docx'})\n",
    "# file.SetContentFile(fpath)\n",
    "# file.Upload()\n",
    "# print(\"File uploaded successfully\")"
   ],
   "id": "81f93d53b84bf98a",
   "outputs": [
    {
     "ename": "InvalidConfigError",
     "evalue": "Invalid client secrets file ('Error opening file', 'client_secrets.json', 'No such file or directory', 2)",
     "output_type": "error",
     "traceback": [
      "\u001B[0;31m---------------------------------------------------------------------------\u001B[0m",
      "\u001B[0;31mFileNotFoundError\u001B[0m                         Traceback (most recent call last)",
      "File \u001B[0;32m~/Library/Python/3.9/lib/python/site-packages/oauth2client/clientsecrets.py:121\u001B[0m, in \u001B[0;36m_loadfile\u001B[0;34m(filename)\u001B[0m\n\u001B[1;32m    120\u001B[0m \u001B[38;5;28;01mtry\u001B[39;00m:\n\u001B[0;32m--> 121\u001B[0m     \u001B[38;5;28;01mwith\u001B[39;00m \u001B[38;5;28;43mopen\u001B[39;49m\u001B[43m(\u001B[49m\u001B[43mfilename\u001B[49m\u001B[43m,\u001B[49m\u001B[43m \u001B[49m\u001B[38;5;124;43m'\u001B[39;49m\u001B[38;5;124;43mr\u001B[39;49m\u001B[38;5;124;43m'\u001B[39;49m\u001B[43m)\u001B[49m \u001B[38;5;28;01mas\u001B[39;00m fp:\n\u001B[1;32m    122\u001B[0m         obj \u001B[38;5;241m=\u001B[39m json\u001B[38;5;241m.\u001B[39mload(fp)\n",
      "\u001B[0;31mFileNotFoundError\u001B[0m: [Errno 2] No such file or directory: 'client_secrets.json'",
      "\nDuring handling of the above exception, another exception occurred:\n",
      "\u001B[0;31mInvalidClientSecretsError\u001B[0m                 Traceback (most recent call last)",
      "File \u001B[0;32m~/Library/Python/3.9/lib/python/site-packages/pydrive/auth.py:386\u001B[0m, in \u001B[0;36mGoogleAuth.LoadClientConfigFile\u001B[0;34m(self, client_config_file)\u001B[0m\n\u001B[1;32m    385\u001B[0m \u001B[38;5;28;01mtry\u001B[39;00m:\n\u001B[0;32m--> 386\u001B[0m   client_type, client_info \u001B[38;5;241m=\u001B[39m \u001B[43mclientsecrets\u001B[49m\u001B[38;5;241;43m.\u001B[39;49m\u001B[43mloadfile\u001B[49m\u001B[43m(\u001B[49m\u001B[43mclient_config_file\u001B[49m\u001B[43m)\u001B[49m\n\u001B[1;32m    387\u001B[0m \u001B[38;5;28;01mexcept\u001B[39;00m clientsecrets\u001B[38;5;241m.\u001B[39mInvalidClientSecretsError \u001B[38;5;28;01mas\u001B[39;00m error:\n",
      "File \u001B[0;32m~/Library/Python/3.9/lib/python/site-packages/oauth2client/clientsecrets.py:165\u001B[0m, in \u001B[0;36mloadfile\u001B[0;34m(filename, cache)\u001B[0m\n\u001B[1;32m    164\u001B[0m \u001B[38;5;28;01mif\u001B[39;00m \u001B[38;5;129;01mnot\u001B[39;00m cache:\n\u001B[0;32m--> 165\u001B[0m     \u001B[38;5;28;01mreturn\u001B[39;00m \u001B[43m_loadfile\u001B[49m\u001B[43m(\u001B[49m\u001B[43mfilename\u001B[49m\u001B[43m)\u001B[49m\n\u001B[1;32m    167\u001B[0m obj \u001B[38;5;241m=\u001B[39m cache\u001B[38;5;241m.\u001B[39mget(filename, namespace\u001B[38;5;241m=\u001B[39m_SECRET_NAMESPACE)\n",
      "File \u001B[0;32m~/Library/Python/3.9/lib/python/site-packages/oauth2client/clientsecrets.py:124\u001B[0m, in \u001B[0;36m_loadfile\u001B[0;34m(filename)\u001B[0m\n\u001B[1;32m    123\u001B[0m \u001B[38;5;28;01mexcept\u001B[39;00m \u001B[38;5;167;01mIOError\u001B[39;00m \u001B[38;5;28;01mas\u001B[39;00m exc:\n\u001B[0;32m--> 124\u001B[0m     \u001B[38;5;28;01mraise\u001B[39;00m InvalidClientSecretsError(\u001B[38;5;124m'\u001B[39m\u001B[38;5;124mError opening file\u001B[39m\u001B[38;5;124m'\u001B[39m, exc\u001B[38;5;241m.\u001B[39mfilename,\n\u001B[1;32m    125\u001B[0m                                     exc\u001B[38;5;241m.\u001B[39mstrerror, exc\u001B[38;5;241m.\u001B[39merrno)\n\u001B[1;32m    126\u001B[0m \u001B[38;5;28;01mreturn\u001B[39;00m _validate_clientsecrets(obj)\n",
      "\u001B[0;31mInvalidClientSecretsError\u001B[0m: ('Error opening file', 'client_secrets.json', 'No such file or directory', 2)",
      "\nDuring handling of the above exception, another exception occurred:\n",
      "\u001B[0;31mInvalidConfigError\u001B[0m                        Traceback (most recent call last)",
      "Cell \u001B[0;32mIn[20], line 7\u001B[0m\n\u001B[1;32m      4\u001B[0m \u001B[38;5;28;01mfrom\u001B[39;00m \u001B[38;5;21;01mpydrive\u001B[39;00m\u001B[38;5;21;01m.\u001B[39;00m\u001B[38;5;21;01mdrive\u001B[39;00m \u001B[38;5;28;01mimport\u001B[39;00m GoogleDrive\n\u001B[1;32m      6\u001B[0m gauth \u001B[38;5;241m=\u001B[39m GoogleAuth()\n\u001B[0;32m----> 7\u001B[0m \u001B[43mgauth\u001B[49m\u001B[38;5;241;43m.\u001B[39;49m\u001B[43mLocalWebserverAuth\u001B[49m\u001B[43m(\u001B[49m\u001B[43m)\u001B[49m\n\u001B[1;32m      8\u001B[0m drive \u001B[38;5;241m=\u001B[39m GoogleDrive(gauth)\n\u001B[1;32m     10\u001B[0m \u001B[38;5;66;03m# Upload a file\u001B[39;00m\n\u001B[1;32m     11\u001B[0m \u001B[38;5;66;03m# fpath = 'Finished Episodes_Word/145. Bölüm - Burçin Acer.docx'\u001B[39;00m\n\u001B[1;32m     12\u001B[0m \u001B[38;5;66;03m# file = drive.CreateFile({'title': '145. Bölüm - Burçin Acer.docx'})\u001B[39;00m\n\u001B[1;32m     13\u001B[0m \u001B[38;5;66;03m# file.SetContentFile(fpath)\u001B[39;00m\n\u001B[1;32m     14\u001B[0m \u001B[38;5;66;03m# file.Upload()\u001B[39;00m\n\u001B[1;32m     15\u001B[0m \u001B[38;5;66;03m# print(\"File uploaded successfully\")\u001B[39;00m\n",
      "File \u001B[0;32m~/Library/Python/3.9/lib/python/site-packages/pydrive/auth.py:113\u001B[0m, in \u001B[0;36mCheckAuth.<locals>._decorated\u001B[0;34m(self, *args, **kwargs)\u001B[0m\n\u001B[1;32m    111\u001B[0m   \u001B[38;5;28mself\u001B[39m\u001B[38;5;241m.\u001B[39mLoadCredentials()\n\u001B[1;32m    112\u001B[0m \u001B[38;5;28;01mif\u001B[39;00m \u001B[38;5;28mself\u001B[39m\u001B[38;5;241m.\u001B[39mflow \u001B[38;5;129;01mis\u001B[39;00m \u001B[38;5;28;01mNone\u001B[39;00m:\n\u001B[0;32m--> 113\u001B[0m   \u001B[38;5;28;43mself\u001B[39;49m\u001B[38;5;241;43m.\u001B[39;49m\u001B[43mGetFlow\u001B[49m\u001B[43m(\u001B[49m\u001B[43m)\u001B[49m\n\u001B[1;32m    114\u001B[0m \u001B[38;5;28;01mif\u001B[39;00m \u001B[38;5;28mself\u001B[39m\u001B[38;5;241m.\u001B[39mcredentials \u001B[38;5;129;01mis\u001B[39;00m \u001B[38;5;28;01mNone\u001B[39;00m:\n\u001B[1;32m    115\u001B[0m   code \u001B[38;5;241m=\u001B[39m decoratee(\u001B[38;5;28mself\u001B[39m, \u001B[38;5;241m*\u001B[39margs, \u001B[38;5;241m*\u001B[39m\u001B[38;5;241m*\u001B[39mkwargs)\n",
      "File \u001B[0;32m~/Library/Python/3.9/lib/python/site-packages/pydrive/auth.py:443\u001B[0m, in \u001B[0;36mGoogleAuth.GetFlow\u001B[0;34m(self)\u001B[0m\n\u001B[1;32m    437\u001B[0m \u001B[38;5;250m\u001B[39m\u001B[38;5;124;03m\"\"\"Gets Flow object from client configuration.\u001B[39;00m\n\u001B[1;32m    438\u001B[0m \n\u001B[1;32m    439\u001B[0m \u001B[38;5;124;03m:raises: InvalidConfigError\u001B[39;00m\n\u001B[1;32m    440\u001B[0m \u001B[38;5;124;03m\"\"\"\u001B[39;00m\n\u001B[1;32m    441\u001B[0m \u001B[38;5;28;01mif\u001B[39;00m \u001B[38;5;129;01mnot\u001B[39;00m \u001B[38;5;28mall\u001B[39m(config \u001B[38;5;129;01min\u001B[39;00m \u001B[38;5;28mself\u001B[39m\u001B[38;5;241m.\u001B[39mclient_config \\\n\u001B[1;32m    442\u001B[0m            \u001B[38;5;28;01mfor\u001B[39;00m config \u001B[38;5;129;01min\u001B[39;00m \u001B[38;5;28mself\u001B[39m\u001B[38;5;241m.\u001B[39mCLIENT_CONFIGS_LIST):\n\u001B[0;32m--> 443\u001B[0m   \u001B[38;5;28;43mself\u001B[39;49m\u001B[38;5;241;43m.\u001B[39;49m\u001B[43mLoadClientConfig\u001B[49m\u001B[43m(\u001B[49m\u001B[43m)\u001B[49m\n\u001B[1;32m    444\u001B[0m constructor_kwargs \u001B[38;5;241m=\u001B[39m {\n\u001B[1;32m    445\u001B[0m     \u001B[38;5;124m'\u001B[39m\u001B[38;5;124mredirect_uri\u001B[39m\u001B[38;5;124m'\u001B[39m: \u001B[38;5;28mself\u001B[39m\u001B[38;5;241m.\u001B[39mclient_config[\u001B[38;5;124m'\u001B[39m\u001B[38;5;124mredirect_uri\u001B[39m\u001B[38;5;124m'\u001B[39m],\n\u001B[1;32m    446\u001B[0m     \u001B[38;5;124m'\u001B[39m\u001B[38;5;124mauth_uri\u001B[39m\u001B[38;5;124m'\u001B[39m: \u001B[38;5;28mself\u001B[39m\u001B[38;5;241m.\u001B[39mclient_config[\u001B[38;5;124m'\u001B[39m\u001B[38;5;124mauth_uri\u001B[39m\u001B[38;5;124m'\u001B[39m],\n\u001B[1;32m    447\u001B[0m     \u001B[38;5;124m'\u001B[39m\u001B[38;5;124mtoken_uri\u001B[39m\u001B[38;5;124m'\u001B[39m: \u001B[38;5;28mself\u001B[39m\u001B[38;5;241m.\u001B[39mclient_config[\u001B[38;5;124m'\u001B[39m\u001B[38;5;124mtoken_uri\u001B[39m\u001B[38;5;124m'\u001B[39m],\n\u001B[1;32m    448\u001B[0m }\n\u001B[1;32m    449\u001B[0m \u001B[38;5;28;01mif\u001B[39;00m \u001B[38;5;28mself\u001B[39m\u001B[38;5;241m.\u001B[39mclient_config[\u001B[38;5;124m'\u001B[39m\u001B[38;5;124mrevoke_uri\u001B[39m\u001B[38;5;124m'\u001B[39m] \u001B[38;5;129;01mis\u001B[39;00m \u001B[38;5;129;01mnot\u001B[39;00m \u001B[38;5;28;01mNone\u001B[39;00m:\n",
      "File \u001B[0;32m~/Library/Python/3.9/lib/python/site-packages/pydrive/auth.py:366\u001B[0m, in \u001B[0;36mGoogleAuth.LoadClientConfig\u001B[0;34m(self, backend)\u001B[0m\n\u001B[1;32m    364\u001B[0m     \u001B[38;5;28;01mraise\u001B[39;00m InvalidConfigError(\u001B[38;5;124m'\u001B[39m\u001B[38;5;124mPlease specify client config backend\u001B[39m\u001B[38;5;124m'\u001B[39m)\n\u001B[1;32m    365\u001B[0m \u001B[38;5;28;01mif\u001B[39;00m backend \u001B[38;5;241m==\u001B[39m \u001B[38;5;124m'\u001B[39m\u001B[38;5;124mfile\u001B[39m\u001B[38;5;124m'\u001B[39m:\n\u001B[0;32m--> 366\u001B[0m   \u001B[38;5;28;43mself\u001B[39;49m\u001B[38;5;241;43m.\u001B[39;49m\u001B[43mLoadClientConfigFile\u001B[49m\u001B[43m(\u001B[49m\u001B[43m)\u001B[49m\n\u001B[1;32m    367\u001B[0m \u001B[38;5;28;01melif\u001B[39;00m backend \u001B[38;5;241m==\u001B[39m \u001B[38;5;124m'\u001B[39m\u001B[38;5;124msettings\u001B[39m\u001B[38;5;124m'\u001B[39m:\n\u001B[1;32m    368\u001B[0m   \u001B[38;5;28mself\u001B[39m\u001B[38;5;241m.\u001B[39mLoadClientConfigSettings()\n",
      "File \u001B[0;32m~/Library/Python/3.9/lib/python/site-packages/pydrive/auth.py:388\u001B[0m, in \u001B[0;36mGoogleAuth.LoadClientConfigFile\u001B[0;34m(self, client_config_file)\u001B[0m\n\u001B[1;32m    386\u001B[0m   client_type, client_info \u001B[38;5;241m=\u001B[39m clientsecrets\u001B[38;5;241m.\u001B[39mloadfile(client_config_file)\n\u001B[1;32m    387\u001B[0m \u001B[38;5;28;01mexcept\u001B[39;00m clientsecrets\u001B[38;5;241m.\u001B[39mInvalidClientSecretsError \u001B[38;5;28;01mas\u001B[39;00m error:\n\u001B[0;32m--> 388\u001B[0m   \u001B[38;5;28;01mraise\u001B[39;00m InvalidConfigError(\u001B[38;5;124m'\u001B[39m\u001B[38;5;124mInvalid client secrets file \u001B[39m\u001B[38;5;132;01m%s\u001B[39;00m\u001B[38;5;124m'\u001B[39m \u001B[38;5;241m%\u001B[39m error)\n\u001B[1;32m    389\u001B[0m \u001B[38;5;28;01mif\u001B[39;00m \u001B[38;5;129;01mnot\u001B[39;00m client_type \u001B[38;5;129;01min\u001B[39;00m (clientsecrets\u001B[38;5;241m.\u001B[39mTYPE_WEB,\n\u001B[1;32m    390\u001B[0m                        clientsecrets\u001B[38;5;241m.\u001B[39mTYPE_INSTALLED):\n\u001B[1;32m    391\u001B[0m   \u001B[38;5;28;01mraise\u001B[39;00m InvalidConfigError(\u001B[38;5;124m'\u001B[39m\u001B[38;5;124mUnknown client_type of client config file\u001B[39m\u001B[38;5;124m'\u001B[39m)\n",
      "\u001B[0;31mInvalidConfigError\u001B[0m: Invalid client secrets file ('Error opening file', 'client_secrets.json', 'No such file or directory', 2)"
     ]
    }
   ],
   "execution_count": 20
  },
  {
   "metadata": {},
   "cell_type": "markdown",
   "source": "## AssemblyAI -> Google Drive\n",
   "id": "811350cd1d26ba7d"
  },
  {
   "metadata": {
    "ExecuteTime": {
     "end_time": "2025-07-13T21:57:57.315036Z",
     "start_time": "2025-07-13T21:57:57.051096Z"
    }
   },
   "cell_type": "code",
   "source": [
    "import os\n",
    "import feedparser\n",
    "import subprocess\n",
    "import assemblyai as aai\n",
    "import threading\n",
    "from dotenv import load_dotenv\n"
   ],
   "id": "7144ef93589eb11b",
   "outputs": [],
   "execution_count": 1
  },
  {
   "metadata": {
    "ExecuteTime": {
     "end_time": "2025-07-13T21:58:11.062178Z",
     "start_time": "2025-07-13T21:58:11.058534Z"
    }
   },
   "cell_type": "code",
   "source": [
    "nasil_olunur_url = \"https://feeds.simplecast.com/TRRbx_5C\"\n",
    "\n",
    "load_dotenv()\n",
    "ASSEMBLYAI_API_KEY = os.getenv(\"AAI_API\")\n",
    "aai.settings.api_key = ASSEMBLYAI_API_KEY\n",
    "transcriptionID_dictionary = {}"
   ],
   "id": "9ed70b75c873d2ef",
   "outputs": [],
   "execution_count": 2
  },
  {
   "metadata": {
    "ExecuteTime": {
     "end_time": "2025-07-13T22:03:07.072122Z",
     "start_time": "2025-07-13T22:03:03.970043Z"
    }
   },
   "cell_type": "code",
   "source": [
    "feed = feedparser.parse(nasil_olunur_url)\n",
    "episodes = {}"
   ],
   "id": "1932052cddfa5e84",
   "outputs": [],
   "execution_count": 21
  },
  {
   "metadata": {
    "ExecuteTime": {
     "end_time": "2025-07-13T22:03:10.885538Z",
     "start_time": "2025-07-13T22:03:10.882252Z"
    }
   },
   "cell_type": "code",
   "source": [
    "starting_episode_no = 234\n",
    "ending_episode_no = 0"
   ],
   "id": "b879f41dfe1e2e10",
   "outputs": [],
   "execution_count": 22
  },
  {
   "metadata": {
    "ExecuteTime": {
     "end_time": "2025-07-13T22:03:12.210957Z",
     "start_time": "2025-07-13T22:03:12.207355Z"
    }
   },
   "cell_type": "code",
   "source": [
    "for episode in feed.entries[ending_episode_no:-starting_episode_no]:\n",
    "    title = episode[\"title\"]\n",
    "    audio_url = episode.enclosures[0].href\n",
    "    episodes[title] = audio_url\n",
    "    print(title, audio_url)\n",
    "# Not: virgul veya - varsa birden fazla konuk oluyor"
   ],
   "id": "45803ccf23b04cd",
   "outputs": [
    {
     "name": "stdout",
     "output_type": "stream",
     "text": [
      "243- Osman Ulagay https://cdn.simplecast.com/audio/41de0602-25fb-46f9-8041-964fa58ffcaa/episodes/549905ef-d5d5-4cb2-86d1-f4d0aa607f52/audio/6f22b2c1-3528-4b6c-a36e-4c41aaa83d15/default_tc.mp3?aid=rss_feed&feed=TRRbx_5C\n",
      "242- Ergin İren https://cdn.simplecast.com/audio/41de0602-25fb-46f9-8041-964fa58ffcaa/episodes/6896f633-7aaf-49f7-ab1d-0232cda4c9eb/audio/9a673dbe-d727-4fad-9607-9ad1ae0f37de/default_tc.mp3?aid=rss_feed&feed=TRRbx_5C\n",
      "241- Hüseyin Kıyak https://cdn.simplecast.com/audio/41de0602-25fb-46f9-8041-964fa58ffcaa/episodes/82ac88cd-1c58-4aac-9d36-003b52224aad/audio/e247bfbb-0773-4a67-89ef-888381ed23df/default_tc.mp3?aid=rss_feed&feed=TRRbx_5C\n",
      "240- Soner Çağaptay https://cdn.simplecast.com/audio/41de0602-25fb-46f9-8041-964fa58ffcaa/episodes/698938e0-58a0-49ca-bde6-79d7e887e4e0/audio/a10f8253-f5cc-4fee-b330-7e2d42baf2cf/default_tc.mp3?aid=rss_feed&feed=TRRbx_5C\n",
      "239- Mabel Matiz https://cdn.simplecast.com/audio/41de0602-25fb-46f9-8041-964fa58ffcaa/episodes/a35870d1-d92f-476a-ab27-5c1e9376734c/audio/1016ee76-c849-4615-9f5c-1734e9b543a2/default_tc.mp3?aid=rss_feed&feed=TRRbx_5C\n",
      "238 - Tilbe Saran https://cdn.simplecast.com/audio/41de0602-25fb-46f9-8041-964fa58ffcaa/episodes/ed13dd60-7844-48ca-8e32-b93ac2ee9e2a/audio/5808b81a-7283-4a88-b395-f3dcb6fb4fc9/default_tc.mp3?aid=rss_feed&feed=TRRbx_5C\n",
      "237 - Emre Zeytinoğlu https://cdn.simplecast.com/audio/41de0602-25fb-46f9-8041-964fa58ffcaa/episodes/7893f1ec-ce27-4129-9f02-21722ada4afc/audio/ef9e8396-ca12-49fd-a659-cefbea85b301/default_tc.mp3?aid=rss_feed&feed=TRRbx_5C\n",
      "236- Ayşen Zamanpur https://cdn.simplecast.com/audio/41de0602-25fb-46f9-8041-964fa58ffcaa/episodes/2a44d1f2-d574-48c9-9e67-0d4640306323/audio/a0977b48-4ff7-4da3-bed3-4d9428c95954/default_tc.mp3?aid=rss_feed&feed=TRRbx_5C\n",
      "235 - Diler Acar https://cdn.simplecast.com/audio/41de0602-25fb-46f9-8041-964fa58ffcaa/episodes/393227e7-0b60-4385-89e1-6661e8bce86e/audio/0caede61-2ff5-4015-82e1-a8fef0e9873d/default_tc.mp3?aid=rss_feed&feed=TRRbx_5C\n"
     ]
    }
   ],
   "execution_count": 23
  },
  {
   "metadata": {
    "ExecuteTime": {
     "end_time": "2025-07-13T22:03:13.555287Z",
     "start_time": "2025-07-13T22:03:13.550224Z"
    }
   },
   "cell_type": "code",
   "source": [
    "config = aai.TranscriptionConfig(\n",
    "    speaker_labels=True,\n",
    "    speakers_expected=2, # bunu ileride otomatize et - simdilik 2+ speakerli textleri elle duzelt\n",
    "    language_code=\"tr\",\n",
    "    entity_detection=True #entity detection ON\n",
    ")\n",
    "\n",
    "config.set_custom_spelling(\n",
    "  {\n",
    "    \"Nilay\": [\"Nile\"],\n",
    "  }\n",
    ")"
   ],
   "id": "255de5e59acf8d89",
   "outputs": [
    {
     "data": {
      "text/plain": [
       "<assemblyai.types.TranscriptionConfig at 0x109915280>"
      ]
     },
     "execution_count": 24,
     "metadata": {},
     "output_type": "execute_result"
    }
   ],
   "execution_count": 24
  },
  {
   "metadata": {
    "ExecuteTime": {
     "end_time": "2025-07-13T22:03:19.543283Z",
     "start_time": "2025-07-13T22:03:19.539994Z"
    }
   },
   "cell_type": "code",
   "source": [
    "def transcribeAudio(audio_url):\n",
    "    transcriber = aai.Transcriber(config=config)\n",
    "    transcript = transcriber.transcribe(audio_url) #audiourl can be undefinded. check against it\n",
    "    transcriptionID_dictionary[audio_url] = transcript.id\n",
    "\n",
    "    #maybe I also need to write the transcript id to a file or something"
   ],
   "id": "3cc9228dfe31b186",
   "outputs": [],
   "execution_count": 25
  },
  {
   "metadata": {
    "ExecuteTime": {
     "end_time": "2025-07-13T22:10:19.243027Z",
     "start_time": "2025-07-13T22:03:41.395722Z"
    }
   },
   "cell_type": "code",
   "source": [
    "threads = []\n",
    "\n",
    "for key,value in episodes.items():\n",
    "    thread = threading.Thread(target=transcribeAudio, args=(value,))\n",
    "    threads.append(thread)\n",
    "    thread.start()\n",
    "\n",
    "for thread in threads:\n",
    "    thread.join()"
   ],
   "id": "64fcb3c52aefa66d",
   "outputs": [],
   "execution_count": 27
  },
  {
   "metadata": {
    "ExecuteTime": {
     "end_time": "2025-07-13T22:10:19.265607Z",
     "start_time": "2025-07-13T22:10:19.263619Z"
    }
   },
   "cell_type": "code",
   "source": "word_episode_dict = {}",
   "id": "37356257e208ea50",
   "outputs": [],
   "execution_count": 28
  },
  {
   "metadata": {
    "ExecuteTime": {
     "end_time": "2025-07-13T22:11:13.859959Z",
     "start_time": "2025-07-13T22:10:19.270552Z"
    }
   },
   "cell_type": "code",
   "source": [
    "for key, value in episodes.items():\n",
    "    title = key\n",
    "    guest = key.split(\"-\")[1].strip()\n",
    "    ep_no = key.split(\"-\")[0].strip()\n",
    "    transcript_id = transcriptionID_dictionary[value]\n",
    "    transcript = aai.Transcript.get_by_id(transcript_id)\n",
    "    word_episode_dict[title] = [title, guest, ep_no, transcript]\n",
    "\n",
    "'''\n",
    "title\n",
    "guest\n",
    "episode_no\n",
    "transcript\n",
    "'''\n",
    "\n",
    "# Problem: transcript id ile bolumler eslenmiyor. Bunu nasil yapabilirim?"
   ],
   "id": "937d4a7591952904",
   "outputs": [
    {
     "data": {
      "text/plain": [
       "'\\ntitle\\nguest\\nepisode_no\\ntranscript\\n'"
      ]
     },
     "execution_count": 29,
     "metadata": {},
     "output_type": "execute_result"
    }
   ],
   "execution_count": 29
  },
  {
   "metadata": {
    "ExecuteTime": {
     "end_time": "2025-07-13T22:12:14.289882Z",
     "start_time": "2025-07-13T22:12:14.243454Z"
    }
   },
   "cell_type": "code",
   "source": [
    "# Write files as docx file\n",
    "from docx import Document\n",
    "\n",
    "new_transcription_folder = \"/Users/kaanerdem/Desktop/projeler/pdtxt/pdtxt_notebook/transcripted_episodes/episodes_with_timestamps/new_episodes\"\n",
    "\n",
    "def write_to_word(transcript, title, guest, ep_no):\n",
    "  file_path = os.path.join(new_transcription_folder, f\"{title}.docx\")\n",
    "\n",
    "  doc = Document()\n",
    "  doc.add_heading(f\"Nasıl Olunur {ep_no}. Bölüm - {guest}\", level=0)\n",
    "\n",
    "  def time_conversion(millisec):\n",
    "      second = (millisec // 1000) % 60\n",
    "      minute = (millisec // 60000) % 60\n",
    "      hour = millisec // 3600000\n",
    "\n",
    "      return f\"[{hour:02}:{minute:02}:{second:02}]\"\n",
    "\n",
    "  for utterance in transcript.utterances: # Once kim konusuyor kontrol edip ona gore speaker atamam lazim\n",
    "    if utterance.speaker == \"A\":\n",
    "      speaker = \"Nilay Örnek\"\n",
    "    elif utterance.speaker == \"B\":\n",
    "      speaker = guest\n",
    "\n",
    "    time = time_conversion(utterance.start)\n",
    "\n",
    "    paragraph = doc.add_paragraph()\n",
    "    paragraph.add_run(f\"{speaker} {time}: \").bold = True\n",
    "    paragraph.add_run(utterance.text)\n",
    "\n",
    "\n",
    "  doc.save(file_path)"
   ],
   "id": "6555dc28714c8e30",
   "outputs": [],
   "execution_count": 30
  },
  {
   "metadata": {
    "ExecuteTime": {
     "end_time": "2025-07-13T22:12:24.173076Z",
     "start_time": "2025-07-13T22:12:23.486733Z"
    }
   },
   "cell_type": "code",
   "source": [
    "# Create Word Files\n",
    "for key, value in word_episode_dict.items():\n",
    "    write_to_word(value[3], value[0], value[1], value[2])"
   ],
   "id": "f1fd1a05b1ad5594",
   "outputs": [],
   "execution_count": 31
  },
  {
   "metadata": {},
   "cell_type": "markdown",
   "source": "### Uploading to the AI Generated file Inside Nasil Olunur - Google Drive",
   "id": "f2d84e2f64ad5f26"
  },
  {
   "metadata": {},
   "cell_type": "code",
   "outputs": [],
   "execution_count": null,
   "source": [
    "from pydrive.auth import GoogleAuth\n",
    "from pydrive.drive import GoogleDrive\n",
    "import os\n",
    "\n",
    "GoogleDrive_FOLDER_ID = \"GOOGLE_DRIVE_FOLDER_ID\"\n",
    "\n",
    "# Authenticate\n",
    "gauth = GoogleAuth()\n",
    "gauth.LocalWebserverAuth()  # Opens a web browser for authentication\n",
    "drive = GoogleDrive(gauth)\n",
    "\n",
    "# Folder containing files to upload\n",
    "folder_path = \"../transcripted_episodes/episodes_with_timestamps/new_episodes\"\n",
    "\n",
    "# Upload each file in the folder\n",
    "for filename in os.listdir(folder_path):\n",
    "    file_path = os.path.join(folder_path, filename)\n",
    "\n",
    "    if os.path.isfile(file_path):  # Ensure it's a file\n",
    "        file = drive.CreateFile({'title': filename, 'parents': [{'id': GoogleDrive_FOLDER_ID}]})\n",
    "        file.SetContentFile(file_path)\n",
    "        file.Upload()\n",
    "        print(f'Uploaded: {filename}')"
   ],
   "id": "a169803eeeb6408d"
  }
 ],
 "metadata": {
  "kernelspec": {
   "name": "python3",
   "language": "python",
   "display_name": "Python 3 (ipykernel)"
  }
 },
 "nbformat": 5,
 "nbformat_minor": 9
}
