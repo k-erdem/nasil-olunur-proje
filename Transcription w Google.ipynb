{
 "cells": [
  {
   "metadata": {},
   "cell_type": "markdown",
   "source": "",
   "id": "651d9fad1c13a22a"
  },
  {
   "metadata": {},
   "cell_type": "markdown",
   "source": [
    "# Using Google Drive to Store Our Files\n",
    "\n",
    "- Not using local storage anymore\n",
    "- All files processed and uploaded to the cloud.\n",
    "\n"
   ],
   "id": "4a240d6753739d26"
  },
  {
   "metadata": {},
   "cell_type": "markdown",
   "source": [
    "## Steps:\n",
    "\n",
    "1) Authenticate with Google Drive\n",
    "2) Try to upload an existing file to the cloud\n",
    "3) Try to upload a file from the RSS feed to the cloud (idk if async work makes this possible)"
   ],
   "id": "2f75cd38e383b52a"
  },
  {
   "metadata": {},
   "cell_type": "code",
   "source": [
    "from dotenv import load_dotenv\n",
    "# Google Authentication\n",
    "from pydrive.auth import GoogleAuth\n",
    "from pydrive.drive import GoogleDrive\n",
    "\n",
    "gauth = GoogleAuth()\n",
    "gauth.LocalWebserverAuth()\n",
    "drive = GoogleDrive(gauth)\n",
    "\n",
    "# Upload a file\n",
    "fpath = 'Finished Episodes_Word/145. Bölüm - Burçin Acer.docx'\n",
    "file = drive.CreateFile({'title': '145. Bölüm - Burçin Acer.docx'})\n",
    "file.SetContentFile(fpath)\n",
    "file.Upload()\n",
    "print(\"File uploaded successfully\")"
   ],
   "id": "81f93d53b84bf98a",
   "outputs": [],
   "execution_count": null
  },
  {
   "metadata": {},
   "cell_type": "markdown",
   "source": "## AssemblyAI -> Google Drive\n",
   "id": "811350cd1d26ba7d"
  },
  {
   "metadata": {},
   "cell_type": "code",
   "source": [
    "import os\n",
    "import feedparser\n",
    "import subprocess\n",
    "import assemblyai as aai\n",
    "import threading\n",
    "from dotenv import load_dotenv\n"
   ],
   "id": "7144ef93589eb11b",
   "outputs": [],
   "execution_count": null
  },
  {
   "metadata": {},
   "cell_type": "code",
   "source": [
    "nasil_olunur_url = \"https://feeds.simplecast.com/TRRbx_5C\"\n",
    "\n",
    "load_dotenv()\n",
    "ASSEMBLYAI_API_KEY = os.getenv(\"AAI_API_2\")\n",
    "aai.settings.api_key = ASSEMBLYAI_API_KEY\n",
    "transcriptionID_dictionary = {}"
   ],
   "id": "9ed70b75c873d2ef",
   "outputs": [],
   "execution_count": null
  },
  {
   "metadata": {},
   "cell_type": "code",
   "source": [
    "feed = feedparser.parse(nasil_olunur_url)\n",
    "episodes = {}\n",
    "for episode in feed.entries[16:78]: #5:78 is all\n",
    "    title = episode[\"title\"]\n",
    "    audio_url = episode.enclosures[0].href\n",
    "    episodes[title] = audio_url\n",
    "    print(title, audio_url)\n",
    "# Not: virgul veya - varsa birden fazla konuk oluyor\n"
   ],
   "id": "1932052cddfa5e84",
   "outputs": [],
   "execution_count": null
  },
  {
   "metadata": {},
   "cell_type": "code",
   "source": [
    "config = aai.TranscriptionConfig(\n",
    "    speaker_labels=True,\n",
    "    speakers_expected=2, # bunu ileride otomatize et - simdilik 2+ speakerli textleri elle duzelt\n",
    "    language_code=\"tr\",\n",
    "    entity_detection=True #entity detection ON\n",
    ")\n",
    "\n",
    "config.set_custom_spelling(\n",
    "  {\n",
    "    \"Nilay\": [\"Nile\"],\n",
    "  }\n",
    ")"
   ],
   "id": "255de5e59acf8d89",
   "outputs": [],
   "execution_count": null
  },
  {
   "metadata": {},
   "cell_type": "code",
   "source": [
    "def transcribeAudio(audio_url):\n",
    "    transcriber = aai.Transcriber(config=config)\n",
    "    transcript = transcriber.transcribe(audio_url) #audiourl can be undefinded. check against it\n",
    "    transcriptionID_dictionary[audio_url] = transcript.id\n",
    "\n",
    "    #maybe I also need to write the transcript id to a file or something"
   ],
   "id": "3cc9228dfe31b186",
   "outputs": [],
   "execution_count": null
  },
  {
   "metadata": {},
   "cell_type": "code",
   "source": [
    "threads = []\n",
    "\n",
    "for key,value in episodes.items():\n",
    "    thread = threading.Thread(target=transcribeAudio, args=(value,))\n",
    "    threads.append(thread)\n",
    "    thread.start()\n",
    "\n",
    "for thread in threads:\n",
    "    thread.join()"
   ],
   "id": "64fcb3c52aefa66d",
   "outputs": [],
   "execution_count": null
  },
  {
   "metadata": {},
   "cell_type": "code",
   "source": "word_episode_dict = {}",
   "id": "37356257e208ea50",
   "outputs": [],
   "execution_count": null
  },
  {
   "metadata": {},
   "cell_type": "code",
   "source": [
    "for key, value in episodes.items():\n",
    "    title = key\n",
    "    guest = key.split(\"-\")[1].strip()\n",
    "    ep_no = key.split(\"-\")[0].strip()\n",
    "    transcript_id = transcriptionID_dictionary[value]\n",
    "    transcript = aai.Transcript.get_by_id(transcript_id)\n",
    "    word_episode_dict[title] = [title, guest, ep_no, transcript]\n",
    "\n",
    "'''\n",
    "title\n",
    "guest\n",
    "episode_no\n",
    "transcript\n",
    "'''\n",
    "\n",
    "# Problem: transcript id ile bolumler eslenmiyor. Bunu nasil yapabilirim?"
   ],
   "id": "937d4a7591952904",
   "outputs": [],
   "execution_count": null
  },
  {
   "metadata": {},
   "cell_type": "code",
   "source": [
    "# Write files as docx file\n",
    "from docx import Document\n",
    "\n",
    "new_transcription_folder = \"/Users/kaanerdem/Desktop/projeler/pdtxt/pdtxt_notebook/transcripted_episodes/episodes_with_timestamps/new_episodes\"\n",
    "\n",
    "def write_to_word(transcript, title, guest, ep_no):\n",
    "  file_path = os.path.join(new_transcription_folder, f\"{title}.docx\")\n",
    "\n",
    "  doc = Document()\n",
    "  doc.add_heading(f\"Nasıl Olunur {ep_no}. Bölüm - {guest}\", level=0)\n",
    "\n",
    "  def time_conversion(millisec):\n",
    "      second = (millisec // 1000) % 60\n",
    "      minute = (millisec // 60000) % 60\n",
    "      hour = millisec // 3600000\n",
    "\n",
    "      return f\"[{hour:02}:{minute:02}:{second:02}]\"\n",
    "\n",
    "  for utterance in transcript.utterances: # Once kim konusuyor kontrol edip ona gore speaker atamam lazim\n",
    "    if utterance.speaker == \"A\":\n",
    "      speaker = \"Nilay Örnek\"\n",
    "    elif utterance.speaker == \"B\":\n",
    "      speaker = guest\n",
    "\n",
    "    time = time_conversion(utterance.start)\n",
    "\n",
    "    paragraph = doc.add_paragraph()\n",
    "    paragraph.add_run(f\"{speaker} {time}: \").bold = True\n",
    "    paragraph.add_run(utterance.text)\n",
    "\n",
    "\n",
    "  doc.save(file_path)"
   ],
   "id": "6555dc28714c8e30",
   "outputs": [],
   "execution_count": null
  },
  {
   "metadata": {},
   "cell_type": "code",
   "source": [
    "# Create Word Files\n",
    "for key, value in word_episode_dict.items():\n",
    "    write_to_word(value[3], value[0], value[1], value[2])"
   ],
   "id": "f1fd1a05b1ad5594",
   "outputs": [],
   "execution_count": null
  },
  {
   "metadata": {},
   "cell_type": "markdown",
   "source": "### Uploading to the AI Generated file Inside Nasil Olunur - Google Drive",
   "id": "f2d84e2f64ad5f26"
  },
  {
   "metadata": {},
   "cell_type": "code",
   "outputs": [],
   "execution_count": null,
   "source": [
    "from pydrive.auth import GoogleAuth\n",
    "from pydrive.drive import GoogleDrive\n",
    "import os\n",
    "\n",
    "GoogleDrive_FOLDER_ID = \"GOOGLE_DRIVE_FOLDER_ID\"\n",
    "\n",
    "# Authenticate\n",
    "gauth = GoogleAuth()\n",
    "gauth.LocalWebserverAuth()  # Opens a web browser for authentication\n",
    "drive = GoogleDrive(gauth)\n",
    "\n",
    "# Folder containing files to upload\n",
    "folder_path = \"../transcripted_episodes/episodes_with_timestamps/new_episodes\"\n",
    "\n",
    "# Upload each file in the folder\n",
    "for filename in os.listdir(folder_path):\n",
    "    file_path = os.path.join(folder_path, filename)\n",
    "\n",
    "    if os.path.isfile(file_path):  # Ensure it's a file\n",
    "        file = drive.CreateFile({'title': filename, 'parents': [{'id': GoogleDrive_FOLDER_ID}]})\n",
    "        file.SetContentFile(file_path)\n",
    "        file.Upload()\n",
    "        print(f'Uploaded: {filename}')"
   ],
   "id": "a169803eeeb6408d"
  }
 ],
 "metadata": {
  "kernelspec": {
   "name": "python3",
   "language": "python",
   "display_name": "Python 3 (ipykernel)"
  }
 },
 "nbformat": 5,
 "nbformat_minor": 9
}
